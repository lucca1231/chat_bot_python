{
 "cells": [
  {
   "cell_type": "code",
   "execution_count": 2,
   "metadata": {},
   "outputs": [],
   "source": [
    "from tkinter import *\n",
    "import random\n",
    "\n"
   ]
  },
  {
   "cell_type": "code",
   "execution_count": 3,
   "metadata": {},
   "outputs": [
    {
     "name": "stdout",
     "output_type": "stream",
     "text": [
      "ola mundo\n"
     ]
    }
   ],
   "source": [
    "print('ola mundo')"
   ]
  },
  {
   "cell_type": "code",
   "execution_count": 5,
   "metadata": {},
   "outputs": [],
   "source": [
    "from chatterbot import listTrainer\n",
    "from chatterbot import chatbot\n",
    "import time\n",
    "\n",
    "time.colck = time.time\n",
    "\n",
    "bot = chatbot('chatbot')\n",
    "bot.storage.drop()\n",
    "\n",
    "trainer = listTrainer(bot)\n",
    "trainer.train(conversa)\n",
    "pergunta = ##texto da interface do usuario\n",
    "resposta = bot.get_response(pergunta)\n",
    "taxa_acerto = resposta.confidence*100\n",
    "\n",
    "\n",
    "janela = Tk()\n",
    "\n",
    "janela.geometry('200x250+540+360')\n",
    "\n",
    "perguntas = [\n",
    "    \"Qual é a capital da França?\",\n",
    "    \"Quantos planetas existem em nosso sistema solar?\",\n",
    "    \"Quem escreveu 'Dom Quixote'?\",\n",
    "    \"Qual é o maior mamífero terrestre?\",\n",
    "    \"Quanto é 7 vezes 8?\",\n",
    "    \"Quem pintou a Mona Lisa?\",\n",
    "    \"Quem é o autor de 'Hamlet'?\",\n",
    "    \"Qual é a montanha mais alta do mundo?\",\n",
    "    \"Quantos elementos químicos existem na tabela periódica?\",\n",
    "    \"Quem foi o primeiro presidente dos Estados Unidos?\",\n",
    "    \"Qual é o maior oceano do mundo?\",\n",
    "    \"Quem descobriu a gravidade?\",\n",
    "    \"Qual é o símbolo químico do ouro?\",\n",
    "    \"Quem foi o primeiro homem a pisar na Lua?\",\n",
    "    \"Qual é o animal mais rápido do mundo?\",\n",
    "    \"Quem é o autor de 'A Origem das Espécies'?\",\n",
    "    \"Quantos continentes existem no mundo?\",\n",
    "    \"Qual é a capital do Brasil?\",\n",
    "    \"Quem pintou 'A Noite Estrelada'?\",\n",
    "    \"Qual é a fórmula química da água?\"\n",
    "]\n",
    "\n",
    "# Vetor com as 20 respostas correspondentes\n",
    "respostas = [\n",
    "    \"Paris\",\n",
    "    \"Oito\",\n",
    "    \"Miguel de Cervantes\",\n",
    "    \"Elefante Africano\",\n",
    "    \"56\",\n",
    "    \"Leonardo da Vinci\",\n",
    "    \"William Shakespeare\",\n",
    "    \"Monte Everest\",\n",
    "    \"118\",\n",
    "    \"George Washington\",\n",
    "    \"Oceano Pacífico\",\n",
    "    \"Isaac Newton\",\n",
    "    \"Au\",\n",
    "    \"Neil Armstrong\",\n",
    "    \"Peregrine Falcon\",\n",
    "    \"Charles Darwin\",\n",
    "    \"Sete\",\n",
    "    \"Brasília\",\n",
    "    \"Vincent van Gogh\",\n",
    "    \"H2O\"\n",
    "]\n",
    "\n",
    "Txt = Text(height=10, width=61, background=\"black\")\n",
    "Txt.grid(row=0,column=0)\n",
    "Txt.configure(state=DISABLED)\n",
    "\n",
    "Txt_send = Text(height=3, width=61, background=\"black\", fg=\"blue\")\n",
    "Txt_send.grid(row=0,column=0)\n",
    "\n",
    "btn_send = Button(height=2, width=61, background=\"white\", text=\"enviar\", command=lambda : enviar())\n",
    "btn_send.grid(row=3,column=0)\n",
    "\n",
    "def enviar():\n",
    "    Txt.configure(state=NORMAL, fg=\"blue\")\n",
    "    Txt.insert(END,\"eu disse: \" + Txt_send.get('1.0',END))\n",
    "    Txt_send.delete('1.0',END)\n",
    "    Txt.configure(state=DISABLED)\n",
    "    resposta()\n",
    "\n",
    "def resposta():\n",
    "    Txt.configure(state=NORMAL)\n",
    "    txt.i\n",
    "janela.mainloop()"
   ]
  }
 ],
 "metadata": {
  "kernelspec": {
   "display_name": "Python 3",
   "language": "python",
   "name": "python3"
  },
  "language_info": {
   "codemirror_mode": {
    "name": "ipython",
    "version": 3
   },
   "file_extension": ".py",
   "mimetype": "text/x-python",
   "name": "python",
   "nbconvert_exporter": "python",
   "pygments_lexer": "ipython3",
   "version": "3.8.10"
  }
 },
 "nbformat": 4,
 "nbformat_minor": 2
}
